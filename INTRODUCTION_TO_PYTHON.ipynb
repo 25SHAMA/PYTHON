{
  "nbformat": 4,
  "nbformat_minor": 0,
  "metadata": {
    "colab": {
      "provenance": [],
      "collapsed_sections": [
        "JaA62WqQPrWv",
        "YkfZwRFiTi5p",
        "Y-jBPkfAaYMf",
        "in9jvuqacK32",
        "UYUsJvTKftqs"
      ],
      "authorship_tag": "ABX9TyPfFBp3mwdbW3fBOvtRNFOe",
      "include_colab_link": true
    },
    "kernelspec": {
      "name": "python3",
      "display_name": "Python 3"
    },
    "language_info": {
      "name": "python"
    }
  },
  "cells": [
    {
      "cell_type": "markdown",
      "metadata": {
        "id": "view-in-github",
        "colab_type": "text"
      },
      "source": [
        "<a href=\"https://colab.research.google.com/github/25SHAMA/PYTHON/blob/main/INTRODUCTION_TO_PYTHON.ipynb\" target=\"_parent\"><img src=\"https://colab.research.google.com/assets/colab-badge.svg\" alt=\"Open In Colab\"/></a>"
      ]
    },
    {
      "cell_type": "markdown",
      "source": [
        "#Data Science\n"
      ],
      "metadata": {
        "id": "JaA62WqQPrWv"
      }
    },
    {
      "cell_type": "markdown",
      "source": [
        "## Data Analysis\n",
        "--Works for Data\n",
        "--Perform Analysis\n",
        "--Gives output/problem cause\n",
        "--find the cause for the problems why the sales have declined\n",
        "## Data Science\n",
        "--Create a model\n",
        "--train and test\n",
        "--future predictions\n",
        "--uses scientific methods or process to make a better decision in future\n"
      ],
      "metadata": {
        "id": "VpVos2HzP-1l"
      }
    },
    {
      "cell_type": "markdown",
      "source": [
        "## Machine Learning\n",
        "--training a machine based on data\n",
        "--make predictions based on the data\n",
        "## Deep Learning\n",
        "--mimics the human brain\n",
        "--part of neural networks (ANN,CNN)\n",
        "##NLP\n",
        "--like humans-write,speak\n",
        "--common english language --->communication\n",
        "##GenAI\n",
        "--something that is generated on it own based on the inputs we are provided\n",
        "\n"
      ],
      "metadata": {
        "id": "OHweIx3JQhkk"
      }
    },
    {
      "cell_type": "markdown",
      "source": [
        "# PYTHON\n"
      ],
      "metadata": {
        "id": "YkfZwRFiTi5p"
      }
    },
    {
      "cell_type": "markdown",
      "source": [
        "--EASY TO LEARN\n",
        "--WIDE RANGE OF LIBRARIES(NUMPY,PANDAS,NATPLOTLIB,SEABORN,PLOYLY,SKLEARN.....)\n",
        "--OPEN SOURCE\n",
        "--PLATFORM INDEPENDENT\n"
      ],
      "metadata": {
        "id": "dROHgS6UTnSF"
      }
    },
    {
      "cell_type": "code",
      "source": [
        "print(\"Hello World\")"
      ],
      "metadata": {
        "colab": {
          "base_uri": "https://localhost:8080/"
        },
        "id": "2TNFWihgXMuF",
        "outputId": "159ba2d6-0500-4551-9fe1-9dc60e0ca087"
      },
      "execution_count": null,
      "outputs": [
        {
          "output_type": "stream",
          "name": "stdout",
          "text": [
            "Hello World\n"
          ]
        }
      ]
    },
    {
      "cell_type": "markdown",
      "source": [
        "comments\n"
      ],
      "metadata": {
        "id": "HY2mHGKkYiOj"
      }
    },
    {
      "cell_type": "code",
      "source": [
        "print(\"Hello world\")\n",
        "#this is a comment--single line comment"
      ],
      "metadata": {
        "colab": {
          "base_uri": "https://localhost:8080/"
        },
        "id": "NxM0Pk8sYk9E",
        "outputId": "656d9393-b76e-4e3a-ea9b-4afd7ba4b26c"
      },
      "execution_count": null,
      "outputs": [
        {
          "output_type": "stream",
          "name": "stdout",
          "text": [
            "Hello world\n"
          ]
        }
      ]
    },
    {
      "cell_type": "code",
      "source": [
        "'''multi line comment'''\n",
        "print(\"hey\")"
      ],
      "metadata": {
        "colab": {
          "base_uri": "https://localhost:8080/"
        },
        "id": "teUTgLR_Y6dD",
        "outputId": "1acdd406-9ae4-44f7-f20a-47554c66e1ca"
      },
      "execution_count": null,
      "outputs": [
        {
          "output_type": "stream",
          "name": "stdout",
          "text": [
            "hey\n"
          ]
        }
      ]
    },
    {
      "cell_type": "markdown",
      "source": [
        "#variables -- containers to store the data"
      ],
      "metadata": {
        "id": "Y-jBPkfAaYMf"
      }
    },
    {
      "cell_type": "code",
      "source": [
        "x=5\n",
        "print(x)"
      ],
      "metadata": {
        "colab": {
          "base_uri": "https://localhost:8080/"
        },
        "id": "DIGrUgGuadjX",
        "outputId": "67d5453c-b792-451b-a836-703756bd44a5"
      },
      "execution_count": null,
      "outputs": [
        {
          "output_type": "stream",
          "name": "stdout",
          "text": [
            "5\n"
          ]
        }
      ]
    },
    {
      "cell_type": "code",
      "source": [
        "x=5\n",
        "y=10\n",
        "z=x-y\n",
        "print(z)"
      ],
      "metadata": {
        "colab": {
          "base_uri": "https://localhost:8080/"
        },
        "id": "zXQR5UrIaqAn",
        "outputId": "72406e69-6e2a-4383-8443-2a837b69c9de"
      },
      "execution_count": null,
      "outputs": [
        {
          "output_type": "stream",
          "name": "stdout",
          "text": [
            "-5\n"
          ]
        }
      ]
    },
    {
      "cell_type": "code",
      "source": [
        "age = 29\n",
        "weight = 55\n",
        "name = \"shaik shama\"\n",
        "print(\"age is\",age)\n",
        "print(\"weight is\",weight)\n",
        "print(\"name is\",name)"
      ],
      "metadata": {
        "colab": {
          "base_uri": "https://localhost:8080/"
        },
        "id": "Uu92Q1gCa20s",
        "outputId": "7fc13b79-3d8b-4a84-a4f5-040390cc48f1"
      },
      "execution_count": null,
      "outputs": [
        {
          "output_type": "stream",
          "name": "stdout",
          "text": [
            "age is 29\n",
            "weight is 55\n",
            "name is shaik shama\n"
          ]
        }
      ]
    },
    {
      "cell_type": "markdown",
      "source": [
        "#Data Type"
      ],
      "metadata": {
        "id": "in9jvuqacK32"
      }
    },
    {
      "cell_type": "code",
      "source": [
        "type(age)"
      ],
      "metadata": {
        "colab": {
          "base_uri": "https://localhost:8080/"
        },
        "id": "mTHiejNZcM0L",
        "outputId": "dfb178d3-9f45-4374-8698-1d2cb1b12b4c"
      },
      "execution_count": null,
      "outputs": [
        {
          "output_type": "execute_result",
          "data": {
            "text/plain": [
              "int"
            ]
          },
          "metadata": {},
          "execution_count": 13
        }
      ]
    },
    {
      "cell_type": "code",
      "source": [
        "print(type(name))"
      ],
      "metadata": {
        "colab": {
          "base_uri": "https://localhost:8080/"
        },
        "id": "E_i8zcQwb0HB",
        "outputId": "4fc44e8b-156c-4a8f-d881-e72bd5065e39"
      },
      "execution_count": null,
      "outputs": [
        {
          "output_type": "stream",
          "name": "stdout",
          "text": [
            "<class 'str'>\n"
          ]
        }
      ]
    },
    {
      "cell_type": "code",
      "source": [
        "x=False\n",
        "type(x)"
      ],
      "metadata": {
        "colab": {
          "base_uri": "https://localhost:8080/"
        },
        "id": "n8RF0WWmcxHb",
        "outputId": "2a7c8890-8d93-484c-d572-fa8bc0757774"
      },
      "execution_count": null,
      "outputs": [
        {
          "output_type": "execute_result",
          "data": {
            "text/plain": [
              "bool"
            ]
          },
          "metadata": {},
          "execution_count": 16
        }
      ]
    },
    {
      "cell_type": "code",
      "source": [
        "z=15\n",
        "print(z)\n",
        "z=20\n",
        "print(z)"
      ],
      "metadata": {
        "colab": {
          "base_uri": "https://localhost:8080/"
        },
        "id": "cDEWh94xc2ui",
        "outputId": "15473dee-c419-4775-dbb0-d63651a72c34"
      },
      "execution_count": null,
      "outputs": [
        {
          "output_type": "stream",
          "name": "stdout",
          "text": [
            "15\n",
            "20\n"
          ]
        }
      ]
    },
    {
      "cell_type": "code",
      "source": [
        "print(z)"
      ],
      "metadata": {
        "colab": {
          "base_uri": "https://localhost:8080/"
        },
        "id": "SAWL7JWSdFMU",
        "outputId": "b8eae183-9a1a-41cb-ee45-24de92958e66"
      },
      "execution_count": null,
      "outputs": [
        {
          "output_type": "stream",
          "name": "stdout",
          "text": [
            "20\n"
          ]
        }
      ]
    },
    {
      "cell_type": "code",
      "source": [
        "z=10\n",
        "type(z)"
      ],
      "metadata": {
        "colab": {
          "base_uri": "https://localhost:8080/"
        },
        "id": "xw3UhkundPID",
        "outputId": "b2a6d6aa-a7d8-42fb-9eda-d9629404c1f4"
      },
      "execution_count": null,
      "outputs": [
        {
          "output_type": "execute_result",
          "data": {
            "text/plain": [
              "int"
            ]
          },
          "metadata": {},
          "execution_count": 19
        }
      ]
    },
    {
      "cell_type": "code",
      "source": [
        "z=\"gfg\"\n",
        "type(z)"
      ],
      "metadata": {
        "colab": {
          "base_uri": "https://localhost:8080/"
        },
        "id": "3USADuZJelrH",
        "outputId": "d8c91cbe-6e86-426c-b6ab-a222bac91afe"
      },
      "execution_count": null,
      "outputs": [
        {
          "output_type": "execute_result",
          "data": {
            "text/plain": [
              "str"
            ]
          },
          "metadata": {},
          "execution_count": 20
        }
      ]
    },
    {
      "cell_type": "markdown",
      "source": [
        "#Rules for assigning Variables"
      ],
      "metadata": {
        "id": "UYUsJvTKftqs"
      }
    },
    {
      "cell_type": "code",
      "source": [
        "firstname = \"shama\"\n",
        "print(firstname)\n"
      ],
      "metadata": {
        "colab": {
          "base_uri": "https://localhost:8080/"
        },
        "id": "5-Pb56xfep7d",
        "outputId": "a91ffddf-617c-4da9-edf1-f50369eb8ef7"
      },
      "execution_count": null,
      "outputs": [
        {
          "output_type": "stream",
          "name": "stdout",
          "text": [
            "shama\n"
          ]
        }
      ]
    },
    {
      "cell_type": "code",
      "source": [
        "first_name=\"shama\"\n",
        "print(first_name)"
      ],
      "metadata": {
        "colab": {
          "base_uri": "https://localhost:8080/"
        },
        "id": "zY5TZ-QteyFj",
        "outputId": "66979ed4-8686-4fbb-bd21-3dffba6f3f48"
      },
      "execution_count": null,
      "outputs": [
        {
          "output_type": "stream",
          "name": "stdout",
          "text": [
            "shama\n"
          ]
        }
      ]
    },
    {
      "cell_type": "code",
      "source": [
        "_age = 23\n",
        "print(age)"
      ],
      "metadata": {
        "colab": {
          "base_uri": "https://localhost:8080/"
        },
        "id": "eNIrrfhwe2B3",
        "outputId": "9984b5ad-ddc6-4875-8ab3-b1eb9c760e87"
      },
      "execution_count": null,
      "outputs": [
        {
          "output_type": "stream",
          "name": "stdout",
          "text": [
            "29\n"
          ]
        }
      ]
    },
    {
      "cell_type": "code",
      "source": [
        "age2 = 20\n",
        "print(age2)"
      ],
      "metadata": {
        "colab": {
          "base_uri": "https://localhost:8080/"
        },
        "id": "KOxlDqQXe4kt",
        "outputId": "7e397e74-f1bc-4a8e-db79-d539dc766fdf"
      },
      "execution_count": null,
      "outputs": [
        {
          "output_type": "stream",
          "name": "stdout",
          "text": [
            "20\n"
          ]
        }
      ]
    },
    {
      "cell_type": "code",
      "source": [
        "#variables can be defined using like @ or - etc...\n",
        "name = \"shaik\"\n",
        "Name = \"shama\""
      ],
      "metadata": {
        "id": "07KYJmkee9Db"
      },
      "execution_count": null,
      "outputs": []
    },
    {
      "cell_type": "code",
      "source": [
        "print(name)"
      ],
      "metadata": {
        "colab": {
          "base_uri": "https://localhost:8080/"
        },
        "id": "cxgR6acgfVBi",
        "outputId": "74fc93e9-2e6f-42e3-9f25-c7d192f2ae84"
      },
      "execution_count": null,
      "outputs": [
        {
          "output_type": "stream",
          "name": "stdout",
          "text": [
            "shaik\n"
          ]
        }
      ]
    },
    {
      "cell_type": "code",
      "source": [
        "print(Name)#python is case sensitive"
      ],
      "metadata": {
        "colab": {
          "base_uri": "https://localhost:8080/"
        },
        "id": "h1eURSJsfWS7",
        "outputId": "cb352c1f-96a6-45d3-de1c-5a43ac14db9c"
      },
      "execution_count": null,
      "outputs": [
        {
          "output_type": "stream",
          "name": "stdout",
          "text": [
            "shama\n"
          ]
        }
      ]
    },
    {
      "cell_type": "markdown",
      "source": [
        "#Conversion of data types"
      ],
      "metadata": {
        "id": "F86-Z9JRg-r5"
      }
    },
    {
      "cell_type": "code",
      "source": [
        "Weight = 46.7\n",
        "type(Weight)"
      ],
      "metadata": {
        "colab": {
          "base_uri": "https://localhost:8080/"
        },
        "id": "BnOPY4MMfZ08",
        "outputId": "d0932503-6b4d-456a-df01-fef35d7e0e7f"
      },
      "execution_count": null,
      "outputs": [
        {
          "output_type": "execute_result",
          "data": {
            "text/plain": [
              "float"
            ]
          },
          "metadata": {},
          "execution_count": 30
        }
      ]
    },
    {
      "cell_type": "code",
      "source": [
        "weight = int(Weight)\n",
        "print(weight)\n",
        "type(weight)"
      ],
      "metadata": {
        "colab": {
          "base_uri": "https://localhost:8080/"
        },
        "id": "7NXwiBmfgQCU",
        "outputId": "7a9c59b6-72bd-41ba-a138-d89e43f0cbd9"
      },
      "execution_count": null,
      "outputs": [
        {
          "output_type": "stream",
          "name": "stdout",
          "text": [
            "46\n"
          ]
        },
        {
          "output_type": "execute_result",
          "data": {
            "text/plain": [
              "int"
            ]
          },
          "metadata": {},
          "execution_count": 31
        }
      ]
    },
    {
      "cell_type": "code",
      "source": [
        "weight = float(weight)\n",
        "print(weight)\n",
        "type(weight)"
      ],
      "metadata": {
        "colab": {
          "base_uri": "https://localhost:8080/"
        },
        "id": "NVsmv8k1gh42",
        "outputId": "6a6734ff-c34f-4617-b081-225c4954ac3f"
      },
      "execution_count": null,
      "outputs": [
        {
          "output_type": "stream",
          "name": "stdout",
          "text": [
            "46.0\n"
          ]
        },
        {
          "output_type": "execute_result",
          "data": {
            "text/plain": [
              "float"
            ]
          },
          "metadata": {},
          "execution_count": 32
        }
      ]
    },
    {
      "cell_type": "code",
      "source": [
        "weight = str(weight)\n",
        "print(type(weight))"
      ],
      "metadata": {
        "colab": {
          "base_uri": "https://localhost:8080/"
        },
        "id": "cG3v5H4VgzAs",
        "outputId": "12726ad3-a40e-4784-dc1d-7ca0993f1685"
      },
      "execution_count": null,
      "outputs": [
        {
          "output_type": "stream",
          "name": "stdout",
          "text": [
            "<class 'str'>\n"
          ]
        }
      ]
    },
    {
      "cell_type": "code",
      "source": [
        "#we cannot convert a string value in to integer but we can convert int into a string"
      ],
      "metadata": {
        "id": "h6pK2ViKhNw8"
      },
      "execution_count": null,
      "outputs": []
    },
    {
      "cell_type": "code",
      "source": [
        "var = 10\n",
        "print(var,type(var))\n",
        "\n",
        "var = \"Hello\"\n",
        "print(var,type(var))\n",
        "\n",
        "var = 10.5\n",
        "print(var,type(var))\n",
        "\n",
        "var = True\n",
        "print(var,type(var))\n"
      ],
      "metadata": {
        "colab": {
          "base_uri": "https://localhost:8080/"
        },
        "id": "WGDoLCvghfPh",
        "outputId": "ecb59ca5-767d-4bab-9d3f-5a3176667fcf"
      },
      "execution_count": null,
      "outputs": [
        {
          "output_type": "stream",
          "name": "stdout",
          "text": [
            "10 <class 'int'>\n",
            "Hello <class 'str'>\n",
            "10.5 <class 'float'>\n",
            "True <class 'bool'>\n"
          ]
        }
      ]
    },
    {
      "cell_type": "code",
      "source": [
        "# input\n",
        "age = int(input(\"enter your age\"))\n",
        "print(age)"
      ],
      "metadata": {
        "colab": {
          "base_uri": "https://localhost:8080/"
        },
        "id": "ba6rRLPZh1o1",
        "outputId": "21fe4f43-61a9-4353-9055-7723fe66dbff"
      },
      "execution_count": null,
      "outputs": [
        {
          "output_type": "stream",
          "name": "stdout",
          "text": [
            "enter your age19\n",
            "19\n"
          ]
        }
      ]
    },
    {
      "cell_type": "code",
      "source": [
        "result = 20+45\n",
        "print(result)"
      ],
      "metadata": {
        "colab": {
          "base_uri": "https://localhost:8080/"
        },
        "id": "yo2ho_vNipG2",
        "outputId": "83c5fc67-89ab-45bc-9572-ad7cd8c959b8"
      },
      "execution_count": null,
      "outputs": [
        {
          "output_type": "stream",
          "name": "stdout",
          "text": [
            "65\n"
          ]
        }
      ]
    },
    {
      "cell_type": "code",
      "source": [
        "#string concatenation\n",
        "result = \"shaik\" + \"shama\"\n",
        "print(result)#sting concatenation cannot be conactenated using different data types like string with integer,string with float but int with float can be concatenated"
      ],
      "metadata": {
        "colab": {
          "base_uri": "https://localhost:8080/"
        },
        "id": "NZe2qDwojHyC",
        "outputId": "4208bf62-233d-421b-9974-3268c4c1b0a2"
      },
      "execution_count": null,
      "outputs": [
        {
          "output_type": "stream",
          "name": "stdout",
          "text": [
            "shaikshama\n"
          ]
        }
      ]
    },
    {
      "cell_type": "code",
      "source": [
        "result = 34.3434+87\n",
        "print(result)"
      ],
      "metadata": {
        "colab": {
          "base_uri": "https://localhost:8080/"
        },
        "id": "9KNs0CIKjs5V",
        "outputId": "3078485a-a18c-402e-d3ef-ccf1834cd289"
      },
      "execution_count": null,
      "outputs": [
        {
          "output_type": "stream",
          "name": "stdout",
          "text": [
            "121.3434\n"
          ]
        }
      ]
    },
    {
      "cell_type": "code",
      "source": [
        "result = \"hello\" + str(5)\n",
        "print(result)"
      ],
      "metadata": {
        "colab": {
          "base_uri": "https://localhost:8080/"
        },
        "id": "4MM3QSIUjwW1",
        "outputId": "03b02769-366e-4a16-e5dd-ca441319c607"
      },
      "execution_count": null,
      "outputs": [
        {
          "output_type": "stream",
          "name": "stdout",
          "text": [
            "hello5\n"
          ]
        }
      ]
    },
    {
      "cell_type": "code",
      "source": [
        "x = input(\"enter x\")\n",
        "x+ \"this value u have entered\""
      ],
      "metadata": {
        "colab": {
          "base_uri": "https://localhost:8080/",
          "height": 54
        },
        "id": "W5uw7f1Rj4JV",
        "outputId": "dc4663f9-ca7a-43df-84b7-beaa76e7315b"
      },
      "execution_count": null,
      "outputs": [
        {
          "name": "stdout",
          "output_type": "stream",
          "text": [
            "enter xgfg\n"
          ]
        },
        {
          "output_type": "execute_result",
          "data": {
            "text/plain": [
              "'gfgthis value u have entered'"
            ],
            "application/vnd.google.colaboratory.intrinsic+json": {
              "type": "string"
            }
          },
          "metadata": {},
          "execution_count": 47
        }
      ]
    },
    {
      "cell_type": "code",
      "source": [],
      "metadata": {
        "id": "LWvfkat6kZix"
      },
      "execution_count": null,
      "outputs": []
    }
  ]
}